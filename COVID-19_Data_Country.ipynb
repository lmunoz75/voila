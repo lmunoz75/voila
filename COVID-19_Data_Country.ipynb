{
 "cells": [
  {
   "cell_type": "markdown",
   "metadata": {},
   "source": [
    "## COVID-19 Data Visualization by Country"
   ]
  },
  {
   "cell_type": "code",
   "execution_count": 1,
   "metadata": {},
   "outputs": [
    {
     "data": {
      "application/vnd.jupyter.widget-view+json": {
       "model_id": "2ce20c682d0a4ce4902d61baffcdba45",
       "version_major": 2,
       "version_minor": 0
      },
      "text/plain": [
       "HBox(children=(VBox(children=(Dropdown(description='Countries', options=('Afghanistan', 'Albania', 'Algeria', …"
      ]
     },
     "metadata": {},
     "output_type": "display_data"
    },
    {
     "data": {
      "application/vnd.jupyter.widget-view+json": {
       "model_id": "d5ceccb2de044190aa30f7b90cebcd0e",
       "version_major": 2,
       "version_minor": 0
      },
      "text/plain": [
       "Output()"
      ]
     },
     "metadata": {},
     "output_type": "display_data"
    }
   ],
   "source": [
    "import requests\n",
    "import ipywidgets\n",
    "import json\n",
    "from IPython.display import display\n",
    "import numpy as np\n",
    "import matplotlib.pyplot as plt\n",
    "import datetime\n",
    "\n",
    "source = \"https://pomber.github.io/covid19/timeseries.json\"\n",
    "r = requests.get(source)\n",
    "data_covid = r.json()\n",
    "\n",
    "country_list = [country for country in data_covid.keys()]\n",
    "country_list.sort()\n",
    "\n",
    "# data_covid  = {country1: [{'date': 'yyyy-m-dd', 'confirmed': ?, 'deaths': ?, 'recovered': ?}, ...], \n",
    "#                country2: [{'date': 'yyyy-m-dd', 'confirmed': ?, 'deaths': ?, 'recovered': ?}, ...], ...}\n",
    "\n",
    "DropDown1 = ipywidgets.Dropdown(options=country_list, description=\"Countries\")   # display(ListBox)\n",
    "CheckBox1 = ipywidgets.Checkbox(value=True, description=\"Show confirmed\")\n",
    "CheckBox2 = ipywidgets.Checkbox(value=True, description=\"Show deaths\")\n",
    "CheckBox3 = ipywidgets.Checkbox(value=True, description=\"Show recovered\")\n",
    "RadioButton1 = ipywidgets.RadioButtons(options=[\"Linear\", \"Logaritmic\"], description=\"Y Scale\")\n",
    "\n",
    "GUI = ipywidgets.HBox([ipywidgets.VBox([DropDown1, RadioButton1]), \n",
    "                       ipywidgets.VBox([CheckBox1, CheckBox2, CheckBox3])])\n",
    "\n",
    "#@ipywidgets.interact(country=DropDown1, \n",
    "#                     show_confirmed=CheckBox1,\n",
    "#                     show_deaths=CheckBox2,\n",
    "#                     show_recovered=CheckBox3, \n",
    "#                     yaxis_type=RadioButton1)\n",
    "def plot_covid_data(country, show_confirmed, show_deaths, show_recovered, yaxis_type):\n",
    "    country_data_list = data_covid.get(country)\n",
    "    date_data = [data_dict.get('date') for data_dict in country_data_list]\n",
    "    confirmed_data = [data_dict.get('confirmed') for data_dict in country_data_list]\n",
    "    death_data = [data_dict.get('deaths') for data_dict in country_data_list]\n",
    "    recovered_data = [data_dict.get('recovered') for data_dict in country_data_list]\n",
    "    n_elements = len(country_data_list)\n",
    "    \n",
    "    text_data = f\"Date: {date_data[-1]}:\\n * Confirmed: {confirmed_data[-1]:,}\\n * Deaths: {death_data[-1]:,}\\n * Recovered: {recovered_data[-1]:,}\"\n",
    "    \n",
    "    data_array = np.concatenate([np.array(confirmed_data).reshape(n_elements, 1), \n",
    "                                 np.array(death_data).reshape(n_elements, 1), \n",
    "                                 np.array(recovered_data).reshape(n_elements, 1)], axis=1)\n",
    "    \n",
    "    dates = [datetime.datetime.strptime(d, \"%Y-%m-%d\").date() for d in date_data]\n",
    "    \n",
    "    fig, ax = plt.subplots(figsize=(12, 6))\n",
    "    \n",
    "    if show_confirmed:\n",
    "        if yaxis_type == 'Linear':\n",
    "            ax.plot(dates, data_array[:,0], '-o', label=\"Confirmed\")\n",
    "        else:\n",
    "            ax.semilogy(dates, data_array[:,0], '-o', label=\"Confirmed\")\n",
    "    \n",
    "    if show_deaths:\n",
    "        if yaxis_type == 'Linear':\n",
    "            ax.plot(dates, data_array[:,1], '-s', label=\"Deaths\")\n",
    "        else:\n",
    "            ax.semilogy(dates, data_array[:,1], '-s', label=\"Deaths\")\n",
    "                \n",
    "    if show_recovered:\n",
    "        if yaxis_type == 'Linear':\n",
    "            ax.plot(dates, data_array[:,2], '-^', label=\"Recovered\")\n",
    "        else:\n",
    "            ax.semilogy(dates, data_array[:,2], '-^', label=\"Recovered\")\n",
    "    \n",
    "    ax.set_title(f\"Data registered by Country - {country}\")\n",
    "    ax.set_xlabel(\"Date\")\n",
    "    ax.set_ylabel(\"Population\")\n",
    "    ax.legend()\n",
    "    ax.grid(linestyle='--', which='both')\n",
    "    \n",
    "    ax.text(ax.get_xlim()[1] + 3, 3.5*ax.get_ylim()[1]/4, text_data, bbox={'facecolor': 'pink'})\n",
    "    \n",
    "    plt.show()\n",
    "    \n",
    "\n",
    "out = ipywidgets.interactive_output(plot_covid_data, {'country': DropDown1,\n",
    "                                                      'show_confirmed': CheckBox1,\n",
    "                                                      'show_deaths': CheckBox2,\n",
    "                                                      'show_recovered': CheckBox3, \n",
    "                                                      'yaxis_type': RadioButton1})\n",
    "display(GUI, out)"
   ]
  },
  {
   "cell_type": "code",
   "execution_count": null,
   "metadata": {},
   "outputs": [],
   "source": []
  }
 ],
 "metadata": {
  "kernelspec": {
   "display_name": "Python 3",
   "language": "python",
   "name": "python3"
  },
  "language_info": {
   "codemirror_mode": {
    "name": "ipython",
    "version": 3
   },
   "file_extension": ".py",
   "mimetype": "text/x-python",
   "name": "python",
   "nbconvert_exporter": "python",
   "pygments_lexer": "ipython3",
   "version": "3.7.6"
  }
 },
 "nbformat": 4,
 "nbformat_minor": 4
}
